{
 "cells": [
  {
   "cell_type": "markdown",
   "metadata": {},
   "source": [
    "# Proyecto 3 - G3 - ML"
   ]
  },
  {
   "cell_type": "markdown",
   "metadata": {},
   "source": [
    "Introducción....."
   ]
  },
  {
   "cell_type": "markdown",
   "metadata": {},
   "source": [
    "## 0. Libraries"
   ]
  },
  {
   "cell_type": "code",
   "execution_count": 3,
   "metadata": {},
   "outputs": [],
   "source": [
    "import os\n",
    "import glob\n",
    "\n",
    "import numpy as np\n",
    "import pandas as pd\n",
    "#import seaborn as sns\n",
    "import matplotlib.pyplot as plt\n",
    "\n",
    "from matplotlib import rcParams\n",
    "from sklearn.decomposition import PCA\n",
    "\n",
    "np.random.seed(2024)"
   ]
  },
  {
   "cell_type": "markdown",
   "metadata": {},
   "source": [
    "## 1. Video Features Extracion\n",
    "\n",
    "Para la extracción de features se usó la librería **Video Features**. No se escogió **Gluon** porque no ha tenido mantenimiento desde hace más de 1 año. \n",
    "\n",
    "Modelos disponibles: \n",
    "\n",
    "- S3D (Kinetics 400)\n",
    "- R(2+1)d RGB (IG-65M, Kinetics 400):\n",
    "    - r2plus1d_18_16_kinetics\n",
    "    - r2plus1d_34_32_ig65m_ft_kinetics *\n",
    "    - r2plus1d_34_8_ig65m_ft_kinetics\n",
    "- I3D-Net RGB + Flow (Kinetics 400)\n",
    "\n",
    "Al final obtuvimos un conjunto de .npy, los cuales leeremos y \n",
    "\n",
    "El comando usado fue el siguiente:\n",
    "\n",
    "```bash\n",
    "# para usar con cpu agregar argumento\n",
    "python .... device=\"cpu\"\n",
    "\n",
    "# i3d\n",
    "python main.py feature_type=i3d file_with_video_paths=\"../data/train_subset/video_paths.txt\" on_extraction=save_numpy output_path=\"../data/train_output\"\n",
    "\n",
    "# s3d\n",
    "python main.py feature_type=s3d file_with_video_paths=\"../data/train_subset/video_paths.txt\" on_extraction=save_numpy output_path=\"../data/train_output\"\n",
    "\n",
    "# r2plus1d_18_16_kinetics\n",
    "python main.py feature_type=r21d file_with_video_paths=\"../data/train_subset/video_paths.txt\" model_name=\"r2plus1d_18_16_kinetics\" on_extraction=save_numpy output_path=\"../data/train_output\"\n",
    "\n",
    "# r2plus1d_34_32_ig65m_ft_kinetics\n",
    "python main.py feature_type=r21d file_with_video_paths=\"../data/train_subset/video_paths.txt\" model_name=\"r2plus1d_34_32_ig65m_ft_kinetics\" on_extraction=save_numpy output_path=\"../data/train_output\"\n",
    "\n",
    "# r2plus1d_34_8_ig65m_ft_kinetics\n",
    "python main.py feature_type=r21d file_with_video_paths=\"../data/train_subset/video_paths.txt\" model_name=\"r2plus1d_34_8_ig65m_ft_kinetics\" on_extraction=save_numpy output_path=\"../data/train_output\"\n",
    "```"
   ]
  },
  {
   "cell_type": "code",
   "execution_count": 5,
   "metadata": {},
   "outputs": [],
   "source": [
    "def split_files_to_groups(directory, num_groups=5):\n",
    "    \n",
    "    # Lista de los .mp4\n",
    "    mp4_files = [f for f in os.listdir(directory) if f.endswith('.mp4')]\n",
    "    # Concatenar path\n",
    "    mp4_paths = [os.path.join(directory, f) for f in mp4_files]\n",
    "    # Shuffle\n",
    "    np.random.shuffle(mp4_paths)\n",
    "\n",
    "    # Dividir en grupos\n",
    "    groups = [[] for _ in range(num_groups)]\n",
    "    for i, path in enumerate(mp4_paths):\n",
    "        groups[i % num_groups].append(path)\n",
    "\n",
    "    # Escribir\n",
    "    for i, group in enumerate(groups):\n",
    "        with open(f'group_{i+1}.txt', 'w') as file:\n",
    "            for path in group:\n",
    "                file.write(f\"{path}\\n\")\n",
    "                \n",
    "directory = 'C:\\\\Users\\\\Adrian Cespedes\\\\Desktop\\\\utec2024_1\\\\ml_temp\\\\Proy3-ML\\\\data\\\\temp'\n",
    "split_files_to_groups(directory)"
   ]
  },
  {
   "cell_type": "markdown",
   "metadata": {},
   "source": [
    "# 2. Load & Save Feature Vectors"
   ]
  },
  {
   "cell_type": "code",
   "execution_count": null,
   "metadata": {},
   "outputs": [],
   "source": []
  }
 ],
 "metadata": {
  "kernelspec": {
   "display_name": "ia",
   "language": "python",
   "name": "python3"
  },
  "language_info": {
   "codemirror_mode": {
    "name": "ipython",
    "version": 3
   },
   "file_extension": ".py",
   "mimetype": "text/x-python",
   "name": "python",
   "nbconvert_exporter": "python",
   "pygments_lexer": "ipython3",
   "version": "3.10.14"
  }
 },
 "nbformat": 4,
 "nbformat_minor": 2
}
